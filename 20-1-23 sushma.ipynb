{
 "cells": [
  {
   "cell_type": "code",
   "execution_count": 9,
   "id": "ace90196",
   "metadata": {},
   "outputs": [
    {
     "name": "stdout",
     "output_type": "stream",
     "text": [
      "enter the number between 1 to 7:3\n",
      "you selected wednesday\n",
      "enter the value between the number\n"
     ]
    }
   ],
   "source": [
    "a=int(input(\"enter the number between 1 to 7:\"))\n",
    "if a==1:\n",
    "    print(\"you selected monday\")\n",
    "if a==2:\n",
    "    print(\"you selected tuesday\")\n",
    "if a==3:\n",
    "    print(\"you selected wednesday\")\n",
    "if a==4:\n",
    "    print(\"you selected thursday\")\n",
    "if a==5:\n",
    "    print(\"you selected friday\")\n",
    "if a==6:\n",
    "    print(\"you selected saturday\")\n",
    "if a==7:\n",
    "    print(\"you selected sunday\")\n",
    "else:\n",
    "    print(\"enter the value between the number\")"
   ]
  },
  {
   "cell_type": "code",
   "execution_count": 8,
   "id": "0e913a52",
   "metadata": {},
   "outputs": [
    {
     "name": "stdout",
     "output_type": "stream",
     "text": [
      "enter the range value:6\n",
      "123456"
     ]
    }
   ],
   "source": [
    "a=int(input(\"enter the range value:\"))\n",
    "for i in range(1,a+1):\n",
    "    print(i,end=\"\")\n"
   ]
  },
  {
   "cell_type": "code",
   "execution_count": 7,
   "id": "c6e095b9",
   "metadata": {},
   "outputs": [
    {
     "name": "stdout",
     "output_type": "stream",
     "text": [
      "enter value of four digit number above (1582AD):2016\n",
      "2016 is a leap year\n"
     ]
    }
   ],
   "source": [
    "a=int(input(\"enter value of four digit number above (1582AD):\"))\n",
    "if a%4==0:\n",
    "    print(a,\"is a leap year\")\n",
    "else:\n",
    "    print(a,\"is not a leap year\")\n",
    "          "
   ]
  },
  {
   "cell_type": "code",
   "execution_count": 6,
   "id": "65205192",
   "metadata": {},
   "outputs": [
    {
     "name": "stdout",
     "output_type": "stream",
     "text": [
      "enter the number:11\n",
      "11 is a prime number\n"
     ]
    }
   ],
   "source": [
    "a=int(input(\"enter the number:\"))\n",
    "count=0\n",
    "for i in range(1,a+1):\n",
    "           if (a%i)==0:\n",
    "                  count=count+1\n",
    "if count==2:\n",
    "    print(a,\"is a prime number\")\n",
    "else:\n",
    "    print(a,\"is not a prime number\")"
   ]
  },
  {
   "cell_type": "code",
   "execution_count": 1,
   "id": "62d2b82d",
   "metadata": {},
   "outputs": [
    {
     "name": "stdout",
     "output_type": "stream",
     "text": [
      "15\n",
      "-5\n",
      "0.5\n",
      "50\n",
      "0\n",
      "9765625\n"
     ]
    }
   ],
   "source": [
    "a=5\n",
    "b=10\n",
    "print(a+b)\n",
    "print(a-b)\n",
    "print(a/b)\n",
    "print(a*b)\n",
    "print(a//b)\n",
    "print(a**b)"
   ]
  },
  {
   "cell_type": "code",
   "execution_count": 4,
   "id": "a7c03ce4",
   "metadata": {},
   "outputs": [
    {
     "name": "stdout",
     "output_type": "stream",
     "text": [
      "0\n",
      "15\n",
      "15\n",
      "-11\n",
      "320\n",
      "0\n"
     ]
    }
   ],
   "source": [
    "a=10\n",
    "b=5\n",
    "print(a&b)\n",
    "print(a|b)\n",
    "print(a^b)\n",
    "print(~a)\n",
    "print(a<<b)\n",
    "print(a>>b)"
   ]
  },
  {
   "cell_type": "code",
   "execution_count": 1,
   "id": "a7f59960",
   "metadata": {},
   "outputs": [
    {
     "name": "stdout",
     "output_type": "stream",
     "text": [
      "x and y is: False\n",
      "x or y is: True\n",
      "not x is: False\n"
     ]
    }
   ],
   "source": [
    "x=True\n",
    "y=False\n",
    "print(\"x and y is:\",x and y)\n",
    "print(\"x or y is:\",x or y)\n",
    "print(\"not x is:\",not x)"
   ]
  },
  {
   "cell_type": "code",
   "execution_count": 5,
   "id": "bb792372",
   "metadata": {},
   "outputs": [
    {
     "name": "stdout",
     "output_type": "stream",
     "text": [
      "enter the a value:5\n",
      "enter the b value:10\n",
      "5 value before swapping\n",
      "10 value before swapping\n",
      "10 value after swapping\n",
      "5 value after swapping\n"
     ]
    }
   ],
   "source": [
    "a=int(input(\"enter the a value:\"))\n",
    "b=int(input(\"enter the b value:\"))\n",
    "print(a,\"value before swapping\")\n",
    "print(b,\"value before swapping\")\n",
    "c=a\n",
    "a=b\n",
    "b=c\n",
    "print(a,\"value after swapping\")\n",
    "print(b,\"value after swapping\")"
   ]
  },
  {
   "cell_type": "code",
   "execution_count": 10,
   "id": "8b65c708",
   "metadata": {},
   "outputs": [
    {
     "name": "stdout",
     "output_type": "stream",
     "text": [
      "9264.4\n"
     ]
    }
   ],
   "source": [
    "p=1900\n",
    "t=23\n",
    "r=21.2\n",
    "SI=p*t*r/100\n",
    "print(SI)"
   ]
  },
  {
   "cell_type": "code",
   "execution_count": 11,
   "id": "ebdb1748",
   "metadata": {},
   "outputs": [
    {
     "name": "stdout",
     "output_type": "stream",
     "text": [
      "enter the number:5\n",
      "5 is positive\n"
     ]
    }
   ],
   "source": [
    "a=int(input(\"enter the number:\"))\n",
    "if a>0:\n",
    "    print(a,\"is positive\")\n",
    "else:\n",
    "    print(a,\"is negative\")"
   ]
  },
  {
   "cell_type": "code",
   "execution_count": 12,
   "id": "4126230e",
   "metadata": {},
   "outputs": [
    {
     "name": "stdout",
     "output_type": "stream",
     "text": [
      "6 2\n"
     ]
    }
   ],
   "source": [
    "a=4\n",
    "b=2\n",
    "c=a+b\n",
    "d=a-b\n",
    "print(c,d)"
   ]
  },
  {
   "cell_type": "code",
   "execution_count": 13,
   "id": "c8c29991",
   "metadata": {},
   "outputs": [
    {
     "name": "stdout",
     "output_type": "stream",
     "text": [
      "True\n",
      "False\n",
      "True\n",
      "False\n",
      "True\n",
      "False\n"
     ]
    }
   ],
   "source": [
    "a=20\n",
    "b=10\n",
    "print(a>b)\n",
    "print(a<b)\n",
    "print(a>=b)\n",
    "print(a<=b)\n",
    "print(a!=b)\n",
    "print(a==b)"
   ]
  },
  {
   "cell_type": "code",
   "execution_count": 15,
   "id": "4e2cda40",
   "metadata": {},
   "outputs": [
    {
     "name": "stdout",
     "output_type": "stream",
     "text": [
      "-0.4\n"
     ]
    }
   ],
   "source": [
    "a,b,c,d,e,r=1,2,3,4,5,6\n",
    "print(r//(a+b)*((c-d)/e))"
   ]
  },
  {
   "cell_type": "code",
   "execution_count": 25,
   "id": "e4a2348d",
   "metadata": {},
   "outputs": [
    {
     "name": "stdout",
     "output_type": "stream",
     "text": [
      "enter a value:2\n",
      "enter b value:4\n",
      "enter c value:7\n",
      "7 is a largest number\n"
     ]
    }
   ],
   "source": [
    "a=int(input(\"enter a value:\"))\n",
    "b=int(input(\"enter b value:\"))\n",
    "c=int(input(\"enter c value:\"))\n",
    "if a>b and a>c:\n",
    "    print(a,\"is a largest number\")\n",
    "if b>a and b>c:\n",
    "    print(b,\"is a largest number\")\n",
    "if c>a and c>b:\n",
    "    print(c,\"is a largest number\")"
   ]
  },
  {
   "cell_type": "code",
   "execution_count": 28,
   "id": "3ff7057a",
   "metadata": {},
   "outputs": [
    {
     "name": "stdout",
     "output_type": "stream",
     "text": [
      "array('i', [1, 2, 3])\n"
     ]
    }
   ],
   "source": [
    "import array\n",
    "a=array.array('i',[1,2,3])\n",
    "print(a)"
   ]
  },
  {
   "cell_type": "code",
   "execution_count": 29,
   "id": "0a4ba66a",
   "metadata": {},
   "outputs": [
    {
     "name": "stdout",
     "output_type": "stream",
     "text": [
      "[5, 4, 3, 2, 1]\n"
     ]
    }
   ],
   "source": [
    "a=[1,2,3,4,5]\n",
    "a.reverse()\n",
    "print(a)"
   ]
  },
  {
   "cell_type": "code",
   "execution_count": 30,
   "id": "0c66d88b",
   "metadata": {},
   "outputs": [
    {
     "name": "stdout",
     "output_type": "stream",
     "text": [
      "{'name': 'rakshitha', 'section': 'gamma'}\n"
     ]
    }
   ],
   "source": [
    "dic={\"name\":\"rakshitha\"}\n",
    "dic[\"section\"]=\"gamma\"\n",
    "print(dic)"
   ]
  },
  {
   "cell_type": "code",
   "execution_count": 31,
   "id": "6212e4c6",
   "metadata": {},
   "outputs": [
    {
     "name": "stdout",
     "output_type": "stream",
     "text": [
      "[1, 2, 3, 4, 5]\n"
     ]
    }
   ],
   "source": [
    "l=[1,2,3,4]\n",
    "l.append(5)\n",
    "print(l)"
   ]
  },
  {
   "cell_type": "code",
   "execution_count": 32,
   "id": "8f99d71f",
   "metadata": {},
   "outputs": [
    {
     "name": "stdout",
     "output_type": "stream",
     "text": [
      "[1, 2, 3, 4, 5]\n"
     ]
    }
   ],
   "source": [
    "l1=[1,2,3]\n",
    "l2=[4,5]\n",
    "l1.extend(l2)\n",
    "print(l1)"
   ]
  },
  {
   "cell_type": "code",
   "execution_count": 33,
   "id": "4674b971",
   "metadata": {},
   "outputs": [
    {
     "name": "stdout",
     "output_type": "stream",
     "text": [
      "[1, 2]\n"
     ]
    }
   ],
   "source": [
    "l=[1,2,3]\n",
    "l.remove(3)\n",
    "print(l)"
   ]
  },
  {
   "cell_type": "code",
   "execution_count": null,
   "id": "1a9f95f3",
   "metadata": {},
   "outputs": [],
   "source": []
  }
 ],
 "metadata": {
  "kernelspec": {
   "display_name": "Python 3 (ipykernel)",
   "language": "python",
   "name": "python3"
  },
  "language_info": {
   "codemirror_mode": {
    "name": "ipython",
    "version": 3
   },
   "file_extension": ".py",
   "mimetype": "text/x-python",
   "name": "python",
   "nbconvert_exporter": "python",
   "pygments_lexer": "ipython3",
   "version": "3.9.13"
  }
 },
 "nbformat": 4,
 "nbformat_minor": 5
}
