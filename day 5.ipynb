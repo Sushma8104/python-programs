{
 "cells": [
  {
   "cell_type": "markdown",
   "id": "facbd5d8",
   "metadata": {},
   "source": [
    "DAY 5:-Write a Python program to calculate the frequency of each word in a given text. Print the words and their corresponding counts\n"
   ]
  },
  {
   "cell_type": "code",
   "execution_count": 1,
   "id": "3d2525e1",
   "metadata": {},
   "outputs": [
    {
     "name": "stdout",
     "output_type": "stream",
     "text": [
      "hello: 2\n",
      "world,: 1\n",
      "python!: 1\n",
      "python: 1\n",
      "is: 1\n",
      "fun.: 1\n"
     ]
    }
   ],
   "source": [
    "def calculate_word_frequency(text):\n",
    "    words = text.split()\n",
    "    frequency = {}\n",
    "    for word in words:\n",
    "        word = word.lower()  # Convert to lowercase\n",
    "        frequency[word] = frequency.get(word, 0) + 1\n",
    "    for word, count in frequency.items():\n",
    "        print(f\"{word}: {count}\")\n",
    "\n",
    "# Test\n",
    "text = \"Hello world, hello Python! Python is fun.\"\n",
    "calculate_word_frequency(text)\n"
   ]
  },
  {
   "cell_type": "code",
   "execution_count": null,
   "id": "e23a9bb9",
   "metadata": {},
   "outputs": [],
   "source": []
  }
 ],
 "metadata": {
  "kernelspec": {
   "display_name": "Python 3 (ipykernel)",
   "language": "python",
   "name": "python3"
  },
  "language_info": {
   "codemirror_mode": {
    "name": "ipython",
    "version": 3
   },
   "file_extension": ".py",
   "mimetype": "text/x-python",
   "name": "python",
   "nbconvert_exporter": "python",
   "pygments_lexer": "ipython3",
   "version": "3.9.13"
  }
 },
 "nbformat": 4,
 "nbformat_minor": 5
}
