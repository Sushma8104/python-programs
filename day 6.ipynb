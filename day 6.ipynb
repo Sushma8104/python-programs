{
 "cells": [
  {
   "cell_type": "markdown",
   "id": "148b83b5",
   "metadata": {},
   "source": [
    "DAY 6:-Write a Python program to using NLTK and Spacy\n",
    "\n",
    "Convert text to lowercase.Remove stopwords using NLTK\n"
   ]
  },
  {
   "cell_type": "code",
   "execution_count": 1,
   "id": "f3460cd2",
   "metadata": {},
   "outputs": [
    {
     "name": "stdout",
     "output_type": "stream",
     "text": [
      "Filtered Words: ['simple', 'text', 'processing', 'example', 'demonstrate', 'nlp']\n"
     ]
    },
    {
     "name": "stderr",
     "output_type": "stream",
     "text": [
      "[nltk_data] Error loading stopwords: <urlopen error [Errno 11001]\n",
      "[nltk_data]     getaddrinfo failed>\n"
     ]
    }
   ],
   "source": [
    "#Text Preprocessing with NLTK and SpaCy\n",
    "\n",
    "import nltk\n",
    "from nltk.corpus import stopwords\n",
    "import spacy\n",
    "\n",
    "# Download stopwords\n",
    "nltk.download('stopwords')\n",
    "stop_words = set(stopwords.words('english'))\n",
    "\n",
    "def preprocess_text(text):\n",
    "    # Convert to lowercase\n",
    "    text = text.lower()\n",
    "    \n",
    "    # Tokenize and remove stopwords using NLTK\n",
    "    words = nltk.word_tokenize(text)\n",
    "    filtered_words = [word for word in words if word.isalpha() and word not in stop_words]\n",
    "    \n",
    "    print(\"Filtered Words:\", filtered_words)\n",
    "\n",
    "# Test\n",
    "text = \"This is a simple text processing example to demonstrate NLP.\"\n",
    "preprocess_text(text)\n"
   ]
  },
  {
   "cell_type": "code",
   "execution_count": null,
   "id": "13bd8b88",
   "metadata": {},
   "outputs": [],
   "source": []
  }
 ],
 "metadata": {
  "kernelspec": {
   "display_name": "Python 3 (ipykernel)",
   "language": "python",
   "name": "python3"
  },
  "language_info": {
   "codemirror_mode": {
    "name": "ipython",
    "version": 3
   },
   "file_extension": ".py",
   "mimetype": "text/x-python",
   "name": "python",
   "nbconvert_exporter": "python",
   "pygments_lexer": "ipython3",
   "version": "3.9.13"
  }
 },
 "nbformat": 4,
 "nbformat_minor": 5
}
