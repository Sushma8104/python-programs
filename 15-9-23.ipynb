{
 "cells": [
  {
   "cell_type": "code",
   "execution_count": 4,
   "id": "f8450f4b",
   "metadata": {},
   "outputs": [
    {
     "name": "stdout",
     "output_type": "stream",
     "text": [
      "to multiply all values in a series 2\n",
      "-------------------------------------\n",
      "0     2\n",
      "1     4\n",
      "2     6\n",
      "3     8\n",
      "4    10\n",
      "dtype: int64\n",
      "to find the squares of all values in a series\n",
      "---------------------------------------------\n",
      "0     2\n",
      "1     4\n",
      "2     6\n",
      "3     8\n",
      "4    10\n",
      "dtype: int64\n",
      "to print all the values in series that are greater than 2\n",
      "-------------------------------------------------\n",
      "2    3\n",
      "3    4\n",
      "4    5\n",
      "dtype: int64\n"
     ]
    }
   ],
   "source": [
    "import pandas as pd\n",
    "s=pd.Series ([1,2,3,4,5])\n",
    "print('to multiply all values in a series 2')\n",
    "print('-------------------------------------')\n",
    "print(s*2)\n",
    "print('to find the squares of all values in a series')\n",
    "print('---------------------------------------------')\n",
    "print(s*2)\n",
    "print('to print all the values in series that are greater than 2')\n",
    "print('-------------------------------------------------')\n",
    "print(s[s>2])"
   ]
  },
  {
   "cell_type": "code",
   "execution_count": 5,
   "id": "e39c6b67",
   "metadata": {},
   "outputs": [
    {
     "name": "stdout",
     "output_type": "stream",
     "text": [
      "to add series & series2\n",
      "-------------------------\n",
      "a    11\n",
      "b    22\n",
      "c    33\n",
      "d    44\n",
      "e    55\n",
      "dtype: int64\n",
      "to add series &b series3\n",
      "----------------------------\n",
      "a    15.0\n",
      "b    34.0\n",
      "c    53.0\n",
      "d    72.0\n",
      "e     NaN\n",
      "dtype: float64\n",
      "to add series & series3 and filled non matchind index with 0\n",
      "---------------------------------------------------------------\n",
      "a    15.0\n",
      "b    34.0\n",
      "c    53.0\n",
      "d    72.0\n",
      "e    50.0\n",
      "dtype: float64\n"
     ]
    }
   ],
   "source": [
    "import pandas as pd\n",
    "s1=pd.Series([1,2,3,4,5],index=['a','b','c','d','e'])\n",
    "s2=pd.Series([10,20,30,40,50],index=['a','b','c','d','e'])\n",
    "s3=pd.Series([5,14,23,32],index=['a','b','c','d'])\n",
    "print('to add series & series2')\n",
    "print('-------------------------')\n",
    "print(s1+s2)\n",
    "print('to add series &b series3')\n",
    "print('----------------------------')\n",
    "print(s2+s3)\n",
    "print('to add series & series3 and filled non matchind index with 0')\n",
    "print('---------------------------------------------------------------')\n",
    "print(s2.add(s3,fill_value=0))\n",
    "\n",
    "\n",
    "\n",
    "\n"
   ]
  },
  {
   "cell_type": "code",
   "execution_count": 6,
   "id": "2e57dd67",
   "metadata": {},
   "outputs": [
    {
     "name": "stdout",
     "output_type": "stream",
     "text": [
      "0    10\n",
      "1    12\n",
      "2    23\n",
      "3    45\n",
      "4    67\n",
      "dtype: int32\n",
      "0    10\n",
      "1    12\n",
      "2    23\n",
      "dtype: int32\n"
     ]
    }
   ],
   "source": [
    "import pandas as pd\n",
    "import numpy as np\n",
    "arr=np.array([10,12,23,45,67,26,65,32,98,])\n",
    "s=pd.Series(arr)\n",
    "print(s.head())\n",
    "print(s.head(3))"
   ]
  },
  {
   "cell_type": "code",
   "execution_count": 7,
   "id": "bc2e1f16",
   "metadata": {},
   "outputs": [
    {
     "name": "stdout",
     "output_type": "stream",
     "text": [
      "4    67\n",
      "5    26\n",
      "6    65\n",
      "7    32\n",
      "8    98\n",
      "dtype: int32\n",
      "6    65\n",
      "7    32\n",
      "8    98\n",
      "dtype: int32\n"
     ]
    }
   ],
   "source": [
    "import pandas as pd\n",
    "import numpy as np\n",
    "arr=np.array([10,12,23,45,67,26,65,32,98,])\n",
    "s=pd.Series(arr)\n",
    "print(s.tail())\n",
    "print(s.tail(3))"
   ]
  },
  {
   "cell_type": "markdown",
   "id": "f1b9c7b5",
   "metadata": {},
   "source": []
  },
  {
   "cell_type": "code",
   "execution_count": 8,
   "id": "2fb0a0a5",
   "metadata": {},
   "outputs": [
    {
     "name": "stdout",
     "output_type": "stream",
     "text": [
      "0    10\n",
      "1    15\n",
      "2    22\n",
      "3    55\n",
      "4    77\n",
      "dtype: int32\n",
      "0    10\n",
      "1    15\n",
      "2    22\n",
      "dtype: int32\n",
      "3    55\n",
      "4    77\n",
      "dtype: int32\n"
     ]
    },
    {
     "data": {
      "text/plain": [
       "2    22\n",
       "3    55\n",
       "dtype: int32"
      ]
     },
     "execution_count": 8,
     "metadata": {},
     "output_type": "execute_result"
    }
   ],
   "source": [
    "import pandas as pd\n",
    "import numpy as np\n",
    "arr=np.array([10,15,22,55,77])\n",
    "s=pd.Series (arr)\n",
    "print(s)\n",
    "print(s.loc[:2])\n",
    "print(s.loc[3:4])\n",
    "s.loc[2:3]"
   ]
  },
  {
   "cell_type": "code",
   "execution_count": 10,
   "id": "81ded8a8",
   "metadata": {},
   "outputs": [
    {
     "name": "stdout",
     "output_type": "stream",
     "text": [
      "0    10\n",
      "1    15\n",
      "2    22\n",
      "3    55\n",
      "4    77\n",
      "dtype: int32\n",
      "0    10\n",
      "1    15\n",
      "dtype: int32\n",
      "3    55\n",
      "dtype: int32\n"
     ]
    },
    {
     "data": {
      "text/plain": [
       "2    22\n",
       "dtype: int32"
      ]
     },
     "execution_count": 10,
     "metadata": {},
     "output_type": "execute_result"
    }
   ],
   "source": [
    "import pandas as pd\n",
    "import numpy as np\n",
    "arr=np.array([10,15,22,55,77])\n",
    "s=pd.Series (arr)\n",
    "print(s)\n",
    "print(s.iloc[:2])\n",
    "print(s.iloc[3:4])\n",
    "s.iloc[2:3]"
   ]
  },
  {
   "cell_type": "code",
   "execution_count": 11,
   "id": "27e72bb3",
   "metadata": {},
   "outputs": [
    {
     "name": "stdout",
     "output_type": "stream",
     "text": [
      "a    10\n",
      "b    12\n",
      "c    34\n",
      "d    66\n",
      "e    77\n",
      "f    21\n",
      "dtype: int32\n",
      "b    12\n",
      "dtype: int32\n",
      "a    10\n",
      "c    34\n",
      "e    77\n",
      "dtype: int32\n"
     ]
    }
   ],
   "source": [
    "import pandas as np\n",
    "import numpy as np\n",
    "arr=np.array([10,12,34,66,77,21])\n",
    "s=pd.Series(arr,index=['a','b','c','d','e','f'])\n",
    "print(s)\n",
    "print(s[1:2:2])\n",
    "print(s[0:6:2])"
   ]
  },
  {
   "cell_type": "code",
   "execution_count": null,
   "id": "e2d4c59b",
   "metadata": {},
   "outputs": [],
   "source": []
  }
 ],
 "metadata": {
  "kernelspec": {
   "display_name": "Python 3 (ipykernel)",
   "language": "python",
   "name": "python3"
  },
  "language_info": {
   "codemirror_mode": {
    "name": "ipython",
    "version": 3
   },
   "file_extension": ".py",
   "mimetype": "text/x-python",
   "name": "python",
   "nbconvert_exporter": "python",
   "pygments_lexer": "ipython3",
   "version": "3.9.13"
  }
 },
 "nbformat": 4,
 "nbformat_minor": 5
}
