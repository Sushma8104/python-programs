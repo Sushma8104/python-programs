{
 "cells": [
  {
   "cell_type": "code",
   "execution_count": 1,
   "id": "f2c08b46",
   "metadata": {},
   "outputs": [
    {
     "name": "stdout",
     "output_type": "stream",
     "text": [
      "Integer variable:\n",
      "Value: 42\n",
      "Type: <class 'int'>\n",
      "\n",
      "Float variable:\n",
      "Value: 3.14\n",
      "Type: <class 'float'>\n",
      "\n",
      "String variable:\n",
      "Value: Hello, Jupyter!\n",
      "Type: <class 'str'>\n",
      "\n",
      "Boolean variable:\n",
      "Value: True\n",
      "Type: <class 'bool'>\n"
     ]
    }
   ],
   "source": [
    "# Declare variables of different data types\n",
    "integer_var = 42\n",
    "float_var = 3.14\n",
    "string_var = \"Hello, Jupyter!\"\n",
    "boolean_var = True\n",
    "\n",
    "# Print each variable and its type\n",
    "print(\"Integer variable:\")\n",
    "print(\"Value:\", integer_var)\n",
    "print(\"Type:\", type(integer_var))\n",
    "\n",
    "print(\"\\nFloat variable:\")\n",
    "print(\"Value:\", float_var)\n",
    "print(\"Type:\", type(float_var))\n",
    "\n",
    "print(\"\\nString variable:\")\n",
    "print(\"Value:\", string_var)\n",
    "print(\"Type:\", type(string_var))\n",
    "\n",
    "print(\"\\nBoolean variable:\")\n",
    "print(\"Value:\", boolean_var)\n",
    "print(\"Type:\", type(boolean_var))"
   ]
  },
  {
   "cell_type": "code",
   "execution_count": null,
   "id": "220f975c",
   "metadata": {},
   "outputs": [],
   "source": []
  }
 ],
 "metadata": {
  "kernelspec": {
   "display_name": "Python 3 (ipykernel)",
   "language": "python",
   "name": "python3"
  },
  "language_info": {
   "codemirror_mode": {
    "name": "ipython",
    "version": 3
   },
   "file_extension": ".py",
   "mimetype": "text/x-python",
   "name": "python",
   "nbconvert_exporter": "python",
   "pygments_lexer": "ipython3",
   "version": "3.9.13"
  }
 },
 "nbformat": 4,
 "nbformat_minor": 5
}
