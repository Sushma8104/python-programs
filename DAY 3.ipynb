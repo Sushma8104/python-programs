{
 "cells": [
  {
   "cell_type": "code",
   "execution_count": 1,
   "id": "11a32c2e",
   "metadata": {},
   "outputs": [
    {
     "name": "stdout",
     "output_type": "stream",
     "text": [
      "Integer variable:\n",
      "Value: 42\n",
      "Type: <class 'int'>\n",
      "\n",
      "Float variable:\n",
      "Value: 3.14\n",
      "Type: <class 'float'>\n",
      "\n",
      "String variable:\n",
      "Value: Hello, Jupyter!\n",
      "Type: <class 'str'>\n",
      "\n",
      "Boolean variable:\n",
      "Value: True\n",
      "Type: <class 'bool'>\n",
      "\n",
      "List variable:\n",
      "Entire list: [10, 20, 30, 40, 50]\n",
      "Element at index 2: 30\n",
      "Slice from index 1 to 3: [20, 30, 40]\n",
      "\n",
      "Tuple variable:\n",
      "Entire tuple: ('apple', 'banana', 'cherry', 'date', 'elderberry')\n",
      "Element at index 3: date\n",
      "Slice from index 0 to 2: ('apple', 'banana', 'cherry')\n",
      "\n",
      "Dictionary variable:\n",
      "Entire dictionary: {'name': 'Alice', 'age': 25, 'city': 'New York', 'profession': 'Engineer', 'hobby': 'Painting'}\n",
      "Value for key 'name': Alice\n",
      "Value for key 'hobby': Painting\n"
     ]
    }
   ],
   "source": [
    "# Declare variables of different data types\n",
    "integer_var = 42\n",
    "float_var = 3.14\n",
    "string_var = \"Hello, Jupyter!\"\n",
    "boolean_var = True\n",
    "\n",
    "# Print each variable and its type\n",
    "print(\"Integer variable:\")\n",
    "print(\"Value:\", integer_var)\n",
    "print(\"Type:\", type(integer_var))\n",
    "\n",
    "print(\"\\nFloat variable:\")\n",
    "print(\"Value:\", float_var)\n",
    "print(\"Type:\", type(float_var))\n",
    "\n",
    "print(\"\\nString variable:\")\n",
    "print(\"Value:\", string_var)\n",
    "print(\"Type:\", type(string_var))\n",
    "\n",
    "print(\"\\nBoolean variable:\")\n",
    "print(\"Value:\", boolean_var)\n",
    "print(\"Type:\", type(boolean_var))\n",
    "\n",
    "# Create a List, Tuple, and Dictionary with 5 elements each\n",
    "list_var = [10, 20, 30, 40, 50]\n",
    "tuple_var = (\"apple\", \"banana\", \"cherry\", \"date\", \"elderberry\")\n",
    "dict_var = {\"name\": \"Alice\", \"age\": 25, \"city\": \"New York\", \"profession\": \"Engineer\", \"hobby\": \"Painting\"}\n",
    "\n",
    "# Access and print elements from the List\n",
    "print(\"\\nList variable:\")\n",
    "print(\"Entire list:\", list_var)\n",
    "print(\"Element at index 2:\", list_var[2])\n",
    "print(\"Slice from index 1 to 3:\", list_var[1:4])\n",
    "\n",
    "# Access and print elements from the Tuple\n",
    "print(\"\\nTuple variable:\")\n",
    "print(\"Entire tuple:\", tuple_var)\n",
    "print(\"Element at index 3:\", tuple_var[3])\n",
    "print(\"Slice from index 0 to 2:\", tuple_var[0:3])\n",
    "\n",
    "# Access and print elements from the Dictionary\n",
    "print(\"\\nDictionary variable:\")\n",
    "print(\"Entire dictionary:\", dict_var)\n",
    "print(\"Value for key 'name':\", dict_var[\"name\"])\n",
    "print(\"Value for key 'hobby':\", dict_var[\"hobby\"])"
   ]
  },
  {
   "cell_type": "code",
   "execution_count": null,
   "id": "f9522dd5",
   "metadata": {},
   "outputs": [],
   "source": []
  }
 ],
 "metadata": {
  "kernelspec": {
   "display_name": "Python 3 (ipykernel)",
   "language": "python",
   "name": "python3"
  },
  "language_info": {
   "codemirror_mode": {
    "name": "ipython",
    "version": 3
   },
   "file_extension": ".py",
   "mimetype": "text/x-python",
   "name": "python",
   "nbconvert_exporter": "python",
   "pygments_lexer": "ipython3",
   "version": "3.9.13"
  }
 },
 "nbformat": 4,
 "nbformat_minor": 5
}
