{
 "cells": [
  {
   "cell_type": "markdown",
   "id": "6bc9ca80",
   "metadata": {},
   "source": [
    "DAY 7:-Write a Python script that:\n",
    "\n",
    "1. Use Genism to preprocess data from a sample text file, follow basic procedures like tokenization, stemming, lemmatization etc.\n",
    "\n"
   ]
  },
  {
   "cell_type": "code",
   "execution_count": 1,
   "id": "a8bb2706",
   "metadata": {},
   "outputs": [
    {
     "name": "stdout",
     "output_type": "stream",
     "text": [
      "Processed Text: ['Natural', 'Language', 'Processing', 'amazing', 'isn', 't', 'Let', 's', 'explore', 'NLP']\n"
     ]
    }
   ],
   "source": [
    "from gensim.parsing.preprocessing import preprocess_string, strip_punctuation, strip_numeric, remove_stopwords\n",
    "from gensim.utils import simple_preprocess\n",
    "\n",
    "def preprocess_data(text):\n",
    "    custom_filters = [strip_punctuation, strip_numeric, remove_stopwords]\n",
    "    processed_text = preprocess_string(text, filters=custom_filters)\n",
    "    print(\"Processed Text:\", processed_text)\n",
    "\n",
    "# Test\n",
    "text = \"Natural Language Processing is amazing, isn't it? Let's explore more about NLP.\"\n",
    "preprocess_data(text)\n",
    "\n"
   ]
  },
  {
   "cell_type": "code",
   "execution_count": null,
   "id": "9366ca52",
   "metadata": {},
   "outputs": [],
   "source": []
  }
 ],
 "metadata": {
  "kernelspec": {
   "display_name": "Python 3 (ipykernel)",
   "language": "python",
   "name": "python3"
  },
  "language_info": {
   "codemirror_mode": {
    "name": "ipython",
    "version": 3
   },
   "file_extension": ".py",
   "mimetype": "text/x-python",
   "name": "python",
   "nbconvert_exporter": "python",
   "pygments_lexer": "ipython3",
   "version": "3.9.13"
  }
 },
 "nbformat": 4,
 "nbformat_minor": 5
}
