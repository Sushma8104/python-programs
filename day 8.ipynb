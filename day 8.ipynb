{
 "cells": [
  {
   "cell_type": "markdown",
   "id": "f388d139",
   "metadata": {},
   "source": [
    "DAY 8:- Write a Python script that:\n",
    "\n",
    "1.Tokenizes a sample paragraph into words and sentences.\n"
   ]
  },
  {
   "cell_type": "code",
   "execution_count": 1,
   "id": "839b2d3c",
   "metadata": {},
   "outputs": [
    {
     "name": "stdout",
     "output_type": "stream",
     "text": [
      "Sentences: ['NLP is fascinating.', 'It helps machines understand human language.']\n",
      "Words: ['NLP', 'is', 'fascinating', '.', 'It', 'helps', 'machines', 'understand', 'human', 'language', '.']\n"
     ]
    },
    {
     "name": "stderr",
     "output_type": "stream",
     "text": [
      "[nltk_data] Error loading punkt: <urlopen error [Errno 11001]\n",
      "[nltk_data]     getaddrinfo failed>\n"
     ]
    }
   ],
   "source": [
    "from nltk.tokenize import word_tokenize, sent_tokenize\n",
    "import nltk\n",
    "\n",
    "nltk.download('punkt')\n",
    "\n",
    "def tokenize_text(paragraph):\n",
    "    sentences = sent_tokenize(paragraph)\n",
    "    words = word_tokenize(paragraph)\n",
    "    print(\"Sentences:\", sentences)\n",
    "    print(\"Words:\", words)\n",
    "\n",
    "# Test\n",
    "text = \"NLP is fascinating. It helps machines understand human language.\"\n",
    "tokenize_text(text)\n"
   ]
  },
  {
   "cell_type": "code",
   "execution_count": null,
   "id": "5f95b7a9",
   "metadata": {},
   "outputs": [],
   "source": []
  }
 ],
 "metadata": {
  "kernelspec": {
   "display_name": "Python 3 (ipykernel)",
   "language": "python",
   "name": "python3"
  },
  "language_info": {
   "codemirror_mode": {
    "name": "ipython",
    "version": 3
   },
   "file_extension": ".py",
   "mimetype": "text/x-python",
   "name": "python",
   "nbconvert_exporter": "python",
   "pygments_lexer": "ipython3",
   "version": "3.9.13"
  }
 },
 "nbformat": 4,
 "nbformat_minor": 5
}
