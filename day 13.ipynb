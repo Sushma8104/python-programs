{
 "cells": [
  {
   "cell_type": "markdown",
   "id": "f45d40e4",
   "metadata": {},
   "source": [
    "DAY 13:- Part of Speech Tagging using SpaCy - Coding Assignment\n"
   ]
  },
  {
   "cell_type": "markdown",
   "id": "47c6711b",
   "metadata": {},
   "source": [
    "Assignment:- Write a Python script to perform part-of-speech tagging on the sentence: 'NLP is amazing and fun to learn.' using SpaCy."
   ]
  },
  {
   "cell_type": "code",
   "execution_count": 2,
   "id": "09beff47",
   "metadata": {},
   "outputs": [
    {
     "name": "stdout",
     "output_type": "stream",
     "text": [
      "NLP: PROPN\n",
      "is: AUX\n",
      "amazing: ADJ\n",
      "and: CCONJ\n",
      "fun: ADJ\n",
      "to: PART\n",
      "learn: VERB\n",
      ".: PUNCT\n"
     ]
    }
   ],
   "source": [
    "\n",
    "#Part-of-Speech Tagging with SpaCy\n",
    "\n",
    "import spacy\n",
    "\n",
    "def pos_tagging(text):\n",
    "    nlp = spacy.load(\"en_core_web_sm\")\n",
    "    doc = nlp(text)\n",
    "    for token in doc:\n",
    "        print(f\"{token.text}: {token.pos_}\")\n",
    "\n",
    "# Test\n",
    "text = \"NLP is amazing and fun to learn.\"\n",
    "pos_tagging(text)"
   ]
  },
  {
   "cell_type": "code",
   "execution_count": null,
   "id": "4b6582d2",
   "metadata": {},
   "outputs": [],
   "source": []
  }
 ],
 "metadata": {
  "kernelspec": {
   "display_name": "Python 3 (ipykernel)",
   "language": "python",
   "name": "python3"
  },
  "language_info": {
   "codemirror_mode": {
    "name": "ipython",
    "version": 3
   },
   "file_extension": ".py",
   "mimetype": "text/x-python",
   "name": "python",
   "nbconvert_exporter": "python",
   "pygments_lexer": "ipython3",
   "version": "3.9.13"
  }
 },
 "nbformat": 4,
 "nbformat_minor": 5
}
