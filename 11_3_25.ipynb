{
  "nbformat": 4,
  "nbformat_minor": 0,
  "metadata": {
    "colab": {
      "provenance": [],
      "authorship_tag": "ABX9TyOzNpoGlLZ5DkxRIKqDnPYA",
      "include_colab_link": true
    },
    "kernelspec": {
      "name": "python3",
      "display_name": "Python 3"
    },
    "language_info": {
      "name": "python"
    }
  },
  "cells": [
    {
      "cell_type": "markdown",
      "metadata": {
        "id": "view-in-github",
        "colab_type": "text"
      },
      "source": [
        "<a href=\"https://colab.research.google.com/github/Sushma8104/python-programs/blob/main/11_3_25.ipynb\" target=\"_parent\"><img src=\"https://colab.research.google.com/assets/colab-badge.svg\" alt=\"Open In Colab\"/></a>"
      ]
    },
    {
      "cell_type": "code",
      "execution_count": null,
      "metadata": {
        "id": "r3DDoI04X5LB"
      },
      "outputs": [],
      "source": [
        "import google.generativeai as genai\n",
        "from google.colab import userdata\n",
        "\n",
        "GOOGLE_API_KEY=userdata.get('GOOGLE_API_KEY')\n",
        "genai.configure(api_key=GOOGLE_API_KEY)"
      ]
    },
    {
      "cell_type": "code",
      "source": [
        "import pathlib\n",
        "import textwrap\n",
        "\n",
        "from IPython.display import display, Markdown\n",
        "\n",
        "def to_markdown(text):\n",
        "    text = text.replace('*', ' - ')\n",
        "    return Markdown(textwrap.indent(text, '> ', predicate=lambda _: True))"
      ],
      "metadata": {
        "id": "ZxSIwiM-Y9uc"
      },
      "execution_count": null,
      "outputs": []
    },
    {
      "cell_type": "code",
      "source": [
        "from google import genai\n",
        "from google.genai import types\n",
        "client=genai.Client(api_key=GOOGLE_API_KEY)"
      ],
      "metadata": {
        "id": "YdQeVKP7aGsT"
      },
      "execution_count": null,
      "outputs": []
    },
    {
      "cell_type": "code",
      "source": [
        "import google.generativeai as genai\n",
        "img = PIL.Image.open('Image1.jpg')\n",
        "img\n",
        "model = genai.GenerativeModel('gemini-1.5-flash')\n",
        "response = model.generate_content([\"Write a short, engaging blog post based on this picture. It should include a description of the meal in the photo and talk about my journey meal prepping.\", img],stream=True)\n",
        "response.resolve()"
      ],
      "metadata": {
        "id": "OcCjoKY2aQ_a"
      },
      "execution_count": null,
      "outputs": []
    },
    {
      "cell_type": "code",
      "source": [
        "to_markdown(response.text)"
      ],
      "metadata": {
        "colab": {
          "base_uri": "https://localhost:8080/",
          "height": 330
        },
        "id": "PWy7BRFoaRJb",
        "outputId": "465ea248-2f22-4750-d957-eced069f6d80"
      },
      "execution_count": null,
      "outputs": [
        {
          "output_type": "execute_result",
          "data": {
            "text/plain": [
              "<IPython.core.display.Markdown object>"
            ],
            "text/markdown": "> ## My Meal Prep Journey: From Chaos to Chicken & Broccoli Bliss!\n> \n> Let's be honest, adulting is hard.  And finding the time (and energy!) to cook healthy, delicious meals every single day feels near impossible.  That's why I finally took the plunge into the world of meal prepping, and let me tell you, it's a game changer!\n> \n> The picture above? That's my latest masterpiece: two containers of perfectly portioned teriyaki chicken and broccoli bowls, complete with fluffy white rice and vibrant roasted carrots.  Each bite is a burst of savory teriyaki flavor, balanced by the crunch of broccoli and the sweetness of the carrots.  It's the ultimate comfort food, without the guilt!\n> \n> My journey wasn't all sunshine and rainbows, though.  Initially, my meal prep attempts were...let's just say \"unsuccessful\".  Overcooked chicken, soggy rice, and a general lack of organization left me feeling frustrated and tempted to order takeout.  But I persevered!  I learned from my mistakes, invested in some good quality containers (like the ones pictured!), and found recipes that were both simple and satisfying.\n> \n> The key for me has been planning.  I spend a few hours on the weekend prepping ingredients and cooking my meals.  Knowing I have healthy, delicious options readily available during the week has drastically reduced my stress levels and improved my eating habits.  Goodbye, unhealthy impulse buys! Hello, consistently healthy meals!\n> \n> So, if you're considering starting your own meal prep journey, don't be intimidated.  Start small, experiment with different recipes, and don't be afraid to make mistakes.  Trust me, the delicious results are totally worth it!  What are your favorite meal prep recipes? Share them in the comments below!\n"
          },
          "metadata": {},
          "execution_count": 14
        }
      ]
    },
    {
      "cell_type": "code",
      "source": [
        "response = model.generate_content([\"Generate an accurate caption for this image.\", img])\n",
        "print(response.text)\n"
      ],
      "metadata": {
        "id": "W2IheAJtdAkK",
        "colab": {
          "base_uri": "https://localhost:8080/",
          "height": 332
        },
        "outputId": "31d05fab-2841-44a4-914c-00c019c745e0"
      },
      "execution_count": 17,
      "outputs": [
        {
          "output_type": "stream",
          "name": "stdout",
          "text": [
            "Here's a caption for the image:\n",
            "\n",
            "**Option 1 (Concise):**\n",
            "\n",
            "> Healthy and delicious meal prep!  Chicken and broccoli with rice.\n",
            "\n",
            "**Option 2 (More descriptive):**\n",
            "\n",
            "> Two glass containers filled with a healthy and colorful meal prep:  chicken stir-fry with broccoli, carrots, and rice. Perfect for a quick and nutritious lunch or dinner.\n",
            "\n",
            "**Option 3 (Focus on ease):**\n",
            "\n",
            "> Easy and tasty meal prepping made simple!  Chicken, broccoli, carrots, and rice ready to go.\n",
            "\n",
            "\n",
            "Choose the option that best fits your intended audience and platform.\n",
            "\n"
          ]
        }
      ]
    },
    {
      "cell_type": "code",
      "source": [
        "from PIL import Image\n",
        "image_path=\"Image2.jpg\"\n",
        "image = Image.open(image_path)\n",
        "response = model.generate_content([\"Describe this image in detail.\",image])\n",
        "print(response.text)"
      ],
      "metadata": {
        "id": "vRv-EebddAxZ",
        "colab": {
          "base_uri": "https://localhost:8080/",
          "height": 263
        },
        "outputId": "abc8d2d4-5969-4004-ffe3-95b175725cde"
      },
      "execution_count": 19,
      "outputs": [
        {
          "output_type": "stream",
          "name": "stdout",
          "text": [
            "Here's a description of the image:\n",
            "\n",
            "Close-up view of a woman with shoulder-length, curly brown hair. \n",
            "\n",
            "\n",
            "She is smiling and gesturing with her right index finger, pointing to her left. Her expression is friendly and approachable. \n",
            "\n",
            "\n",
            "She's wearing a teal-colored, three-quarter sleeve top or tunic with a subtle gold pattern. The pattern appears to be small, repeated floral or paisley-like designs. The top has a simple, slightly open neckline.\n",
            "\n",
            "\n",
            "The background is a plain, bright white, which keeps the focus on the woman. The lighting is even and soft, minimizing harsh shadows. The overall impression is one of a clean, well-lit portrait with a casual and positive vibe.\n",
            "\n"
          ]
        }
      ]
    },
    {
      "cell_type": "code",
      "source": [
        "response = model.generate_content([\"What emotions can you detect in this image?\", image])\n",
        "print(response.text)"
      ],
      "metadata": {
        "colab": {
          "base_uri": "https://localhost:8080/",
          "height": 72
        },
        "id": "2PNFV3HpiYyP",
        "outputId": "4daf36fb-0d4f-40fa-e7c8-5130fbd8985f"
      },
      "execution_count": 20,
      "outputs": [
        {
          "output_type": "stream",
          "name": "stdout",
          "text": [
            "The woman in the image appears to be exhibiting happiness and confidence.  Her smile is genuine, and her posture and gesture (pointing with a hand while making eye contact) suggest she is engaged and possibly directing attention to something.  There is an air of approachability as well.\n",
            "\n"
          ]
        }
      ]
    },
    {
      "cell_type": "code",
      "source": [],
      "metadata": {
        "id": "YVu8llAjjr3M"
      },
      "execution_count": null,
      "outputs": []
    }
  ]
}