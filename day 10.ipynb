{
 "cells": [
  {
   "cell_type": "markdown",
   "id": "9bea25a7",
   "metadata": {},
   "source": [
    "DAY 10:- Examples on Regular Expressions - Coding Assignment"
   ]
  },
  {
   "cell_type": "markdown",
   "id": "cbf4d488",
   "metadata": {},
   "source": [
    "Assignment:- Write a Python function using regular expressions to extract all email addresses from a given string. Test it with the input: 'Contact us at support@example.com and sales@example.org.'\n"
   ]
  },
  {
   "cell_type": "code",
   "execution_count": 1,
   "id": "55e05c62",
   "metadata": {},
   "outputs": [
    {
     "name": "stdout",
     "output_type": "stream",
     "text": [
      "Extracted Emails: ['support@example.com', 'sales@example.org']\n"
     ]
    }
   ],
   "source": [
    "#Regular Expressions - Extracting Emails\n",
    "\n",
    "import re\n",
    "\n",
    "def extract_emails(text):\n",
    "    emails = re.findall(r'[a-zA-Z0-9._%+-]+@[a-zA-Z0-9.-]+\\.[a-zA-Z]{2,}', text)\n",
    "    return emails\n",
    "\n",
    "# Test\n",
    "text = \"Contact us at support@example.com and sales@example.org.\"\n",
    "emails = extract_emails(text)\n",
    "print(\"Extracted Emails:\", emails)\n"
   ]
  },
  {
   "cell_type": "code",
   "execution_count": null,
   "id": "1f4379cb",
   "metadata": {},
   "outputs": [],
   "source": []
  }
 ],
 "metadata": {
  "kernelspec": {
   "display_name": "Python 3 (ipykernel)",
   "language": "python",
   "name": "python3"
  },
  "language_info": {
   "codemirror_mode": {
    "name": "ipython",
    "version": 3
   },
   "file_extension": ".py",
   "mimetype": "text/x-python",
   "name": "python",
   "nbconvert_exporter": "python",
   "pygments_lexer": "ipython3",
   "version": "3.9.13"
  }
 },
 "nbformat": 4,
 "nbformat_minor": 5
}
