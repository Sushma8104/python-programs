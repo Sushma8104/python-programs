{
  "nbformat": 4,
  "nbformat_minor": 0,
  "metadata": {
    "colab": {
      "provenance": [],
      "authorship_tag": "ABX9TyNF7QKkiXG4iRjx/X4SgZWF",
      "include_colab_link": true
    },
    "kernelspec": {
      "name": "python3",
      "display_name": "Python 3"
    },
    "language_info": {
      "name": "python"
    }
  },
  "cells": [
    {
      "cell_type": "markdown",
      "metadata": {
        "id": "view-in-github",
        "colab_type": "text"
      },
      "source": [
        "<a href=\"https://colab.research.google.com/github/Sushma8104/python-programs/blob/main/15_3_25.ipynb\" target=\"_parent\"><img src=\"https://colab.research.google.com/assets/colab-badge.svg\" alt=\"Open In Colab\"/></a>"
      ]
    },
    {
      "cell_type": "code",
      "execution_count": 1,
      "metadata": {
        "id": "XNi0dTMLN8Cd"
      },
      "outputs": [],
      "source": [
        "\n",
        "\n",
        "import google.generativeai as genai\n",
        "\n",
        "from google.colab import userdata\n",
        "\n",
        "GOOGLE_API_KEY=userdata.get('GOOGLE_API_KEY')\n",
        "\n",
        "genai.configure(api_key=GOOGLE_API_KEY)"
      ]
    },
    {
      "cell_type": "code",
      "source": [
        "pip install PyPDF2"
      ],
      "metadata": {
        "colab": {
          "base_uri": "https://localhost:8080/"
        },
        "id": "NhGOxlGBOA4J",
        "outputId": "78c10d69-929d-42b7-e8c6-ae340101a76e"
      },
      "execution_count": 2,
      "outputs": [
        {
          "output_type": "stream",
          "name": "stdout",
          "text": [
            "Collecting PyPDF2\n",
            "  Downloading pypdf2-3.0.1-py3-none-any.whl.metadata (6.8 kB)\n",
            "Downloading pypdf2-3.0.1-py3-none-any.whl (232 kB)\n",
            "\u001b[?25l   \u001b[90m━━━━━━━━━━━━━━━━━━━━━━━━━━━━━━━━━━━━━━━━\u001b[0m \u001b[32m0.0/232.6 kB\u001b[0m \u001b[31m?\u001b[0m eta \u001b[36m-:--:--\u001b[0m\r\u001b[2K   \u001b[91m━━━━━━━━━━━━━━━━━━━━━━━━━━\u001b[0m\u001b[90m╺\u001b[0m\u001b[90m━━━━━━━━━━━━━\u001b[0m \u001b[32m153.6/232.6 kB\u001b[0m \u001b[31m4.4 MB/s\u001b[0m eta \u001b[36m0:00:01\u001b[0m\r\u001b[2K   \u001b[90m━━━━━━━━━━━━━━━━━━━━━━━━━━━━━━━━━━━━━━━━\u001b[0m \u001b[32m232.6/232.6 kB\u001b[0m \u001b[31m3.9 MB/s\u001b[0m eta \u001b[36m0:00:00\u001b[0m\n",
            "\u001b[?25hInstalling collected packages: PyPDF2\n",
            "Successfully installed PyPDF2-3.0.1\n"
          ]
        }
      ]
    },
    {
      "cell_type": "code",
      "source": [
        "import PyPDF2\n",
        "def extract_text_from_pdf(pdf_path):\n",
        "    text = \"\"\n",
        "    with open(pdf_path, 'rb') as pdf_file:\n",
        "        pdf_reader = PyPDF2.PdfReader(pdf_file)\n",
        "        for page in pdf_reader.pages:\n",
        "            text += page.extract_text()\n",
        "    return text"
      ],
      "metadata": {
        "id": "lpzEi2KKOA7a"
      },
      "execution_count": 3,
      "outputs": []
    },
    {
      "cell_type": "code",
      "source": [
        "def extract_health_insights(text):\n",
        "  model=genai.GenerativeModel(\"gemini-1.5-flash\")\n",
        "  prompt=f\"Extract key insights from the following health report:\\n\\n{text}\"\n",
        "  response=model.generate_content(prompt)\n",
        "  return response.text\n",
        "pdf_file=\"health_report.pdf\"\n",
        "extracted_text=extract_text_from_pdf(pdf_file)\n",
        "insights=extract_health_insights(extracted_text)\n",
        "print(\"Key insights:\\n\",insights)"
      ],
      "metadata": {
        "colab": {
          "base_uri": "https://localhost:8080/",
          "height": 505
        },
        "id": "ML-LSM_gOA-U",
        "outputId": "d5829f99-5b29-4bf4-a62d-2b34dc1ed87b"
      },
      "execution_count": 4,
      "outputs": [
        {
          "output_type": "stream",
          "name": "stdout",
          "text": [
            "Key insights:\n",
            " The report shows test results for Mr. Kishan Goud (MR2100003157) on 01/02/2021.  Key insights include:\n",
            "\n",
            "**Infectious Disease Markers:**\n",
            "\n",
            "* **Widal Test:** Elevated titers for *Salmonella Typhi* \"O\" (1:160) and \"H\" (1:80) suggest a possible past or current typhoid infection.  The reference range is 1:20, indicating a positive result.  *Salmonella Paratyphi* \"A\" and \"B\" titers were within the normal range.\n",
            "* **Dengue Serology:** Negative for Dengue NS1 antigen, IgG, and IgM antibodies, ruling out a recent or current dengue fever infection.\n",
            "* **Malaria:** Negative for both *Plasmodium falciparum* and *Plasmodium vivax*, ruling out malaria.\n",
            "\n",
            "**Hematology:**\n",
            "\n",
            "* **Complete Blood Picture (CBC):**  Hemoglobin, RBC, WBC, and platelet counts are all within the normal ranges.  The differential count shows normal ranges for neutrophils, lymphocytes, eosinophils, monocytes, and basophils.  The peripheral blood smear shows normal findings.  This indicates no significant abnormalities in the blood cells.\n",
            "* **Erythrocyte Sedimentation Rate (ESR):** Elevated (26 mm/hr in the first hour, 52 mm/hr in the second hour). This suggests possible inflammation or infection.\n",
            "\n",
            "**Blood Chemistry:**\n",
            "\n",
            "* **HbA1c:**  5.4%, indicating good blood glucose control (within the normal non-diabetic range).\n",
            "* **Random Blood Glucose:**  Result is missing from the provided text.\n",
            "* **Serum Creatinine:** 0.8 mg/dl, within the normal range, indicating normal kidney function.\n",
            "* **Liver Function Tests (LFTs):** All liver function tests (bilirubin, alkaline phosphatase, SGOT, SGPT, total protein, albumin, globulin, A/G ratio) are within normal ranges, indicating no significant liver abnormalities.\n",
            "* **Serum Electrolytes:** Serum sodium is slightly low (122 mmol/l; reference range 135-146 mmol/l), while potassium and chloride are within normal limits.  The low sodium warrants further investigation.\n",
            "\n",
            "\n",
            "**Overall:**\n",
            "\n",
            "The most significant finding is the elevated Widal test titers suggesting a possible typhoid infection.  The elevated ESR supports the possibility of an ongoing inflammatory process. The slightly low serum sodium level needs further evaluation.  All other tests, including those for dengue and malaria, were negative.  The patient's age and other clinical presentation should be taken into consideration alongside these lab results to formulate a diagnosis and treatment plan.\n",
            "\n"
          ]
        }
      ]
    },
    {
      "cell_type": "code",
      "source": [
        "def summarize_health_report(text):\n",
        "  model=genai.GenerativeModel(\"gemini-1.5-flash\")\n",
        "  prompt=f\"summarize the following health report in a concise manner:\\n\\n{text}\"\n",
        "  response=model.generate_content(prompt)\n",
        "  return response.text\n",
        "summary=summarize_health_report(extracted_text)\n",
        "print(\"summary:\\n\",summary)"
      ],
      "metadata": {
        "colab": {
          "base_uri": "https://localhost:8080/",
          "height": 89
        },
        "id": "0Ey3W-e3Qoyz",
        "outputId": "d40fbeda-5914-4304-cc01-4080f35fcd80"
      },
      "execution_count": 6,
      "outputs": [
        {
          "output_type": "stream",
          "name": "stdout",
          "text": [
            "summary:\n",
            " Mr. Kishan Goud's (MR2100003157) blood tests on 01/02/2021 showed:  Elevated ESR (26/52 mm/hr), slightly low serum sodium (122 mmol/l), and Widal test results suggestive of past exposure to Salmonella Typhi (O: 1:160, H: 1:80).  All other tests, including dengue serology, malaria, complete blood count (CBC), HbA1c, liver function tests, and serum electrolytes (except sodium) were within normal limits.\n",
            "\n"
          ]
        }
      ]
    },
    {
      "cell_type": "markdown",
      "source": [
        "Detect Abnormal lab Result"
      ],
      "metadata": {
        "id": "jNlGh65BUmS3"
      }
    },
    {
      "cell_type": "code",
      "source": [
        "from typing import Text\n",
        "def detect_abnormalities(text):\n",
        "  model=genai.GenerativeModel(\"gemini-1.5-flash\")\n",
        "  prompt=f\"Analyze the lab test results in the following health report and highlight any abnormal values:\\n\\n{text}\"\n",
        "  response=model.generate_content(prompt)\n",
        "  return response.text\n",
        "abnormalities=detect_abnormalities(extracted_text)\n",
        "print(\"potential Abnormalities:\\n\",abnormalities)"
      ],
      "metadata": {
        "colab": {
          "base_uri": "https://localhost:8080/",
          "height": 384
        },
        "id": "eP6vA_FZTXBs",
        "outputId": "7e319d46-1785-4935-bcce-a18666f0df09"
      },
      "execution_count": 8,
      "outputs": [
        {
          "output_type": "stream",
          "name": "stdout",
          "text": [
            "potential Abnormalities:\n",
            " Based on the provided lab results, the following values are outside the reference ranges, indicating potential abnormalities:\n",
            "\n",
            "* **Widal Test:**  S. Typhi \"O\" (1:160) and S. Typhi \"H\" (1:80) are significantly elevated above the reference range of 1:20.  This strongly suggests a possible past or present *Salmonella Typhi* infection (Typhoid fever).  Further investigation and clinical correlation are necessary.\n",
            "\n",
            "* **ESR (Erythrocyte Sedimentation Rate):** Both the 1st hour (26 mm/hr) and 2nd hour (52 mm/hr) values are significantly higher than the reference range of 0-8 mm/hr for the first hour. Elevated ESR indicates inflammation in the body, but it's a non-specific marker and requires further investigation to determine the cause.\n",
            "\n",
            "* **Serum Sodium:** 122 mmol/l is below the reference range of 135-146 mmol/l. This indicates hyponatremia (low sodium levels in the blood), which can have various causes and needs further evaluation.\n",
            "\n",
            "* **Serum Chloride:** 97 mmol/l is below the reference range of 98-107 mmol/l.  This is mild hypochloremia (low chloride levels), which often accompanies hyponatremia and warrants further investigation.\n",
            "\n",
            "\n",
            "**Values within or near the lower end of the reference range:**\n",
            "\n",
            "* **RBC (Red Blood Cell count):** 4.3 mill/cumm is at the lower end of the normal range (4.5-5.5 mill/cumm).  While technically within the range, it's worth noting and monitoring, especially in conjunction with the other findings.\n",
            "* **Platelet Count:** While technically within the reference range (1.5 - 4.5 lakhs/cumm), at 2.0 lakhs/cumm it's on the lower side of normal.  Clinically significant thrombocytopenia would be at a much lower level, however monitoring might be advisable.\n",
            "\n",
            "\n",
            "**Important Note:**  This analysis is based solely on the lab results provided.  It is crucial to consult with a physician or healthcare professional for proper interpretation of these results in the context of Mr. Kishan Goud's complete medical history, physical examination, and other relevant clinical information.  The elevated Widal test and ESR, along with the low sodium and chloride levels, warrant further investigation to determine the underlying cause(s).\n",
            "\n"
          ]
        }
      ]
    },
    {
      "cell_type": "code",
      "source": [
        "def explain_medical_terms(text):\n",
        "  model=genai.GenerativeModel(\"gemini-1.5-flash\")\n",
        "  prompt=f\"Explain the medical term in simple language:\\n\\n{text}\"\n",
        "  response=model.generate_content(prompt)\n",
        "  return response.text\n",
        "explanantion=explain_medical_terms(extracted_text)\n",
        "print(\"simplified explanantion\",explanantion)"
      ],
      "metadata": {
        "colab": {
          "base_uri": "https://localhost:8080/",
          "height": 523
        },
        "id": "9kjRgiDRUeym",
        "outputId": "edfc4d8d-c010-463b-9275-60d1ba761e52"
      },
      "execution_count": 9,
      "outputs": [
        {
          "output_type": "stream",
          "name": "stdout",
          "text": [
            "simplified explanantion This is a lab report for Mr. Kishan Goud.  Let's break down the results in simple terms:\n",
            "\n",
            "**Infectious Disease Tests:**\n",
            "\n",
            "* **Widal Test:** This test checks for antibodies against typhoid fever ( *Salmonella typhi* and *Salmonella paratyphi*).  The results show some antibodies present, but whether this indicates a current infection or past exposure requires further medical evaluation.  The doctor will interpret these numbers in the context of the patient's symptoms.  Higher numbers usually suggest a stronger response, but the interpretation is complex.\n",
            "\n",
            "* **Dengue Serology:** This checks for dengue fever. The tests for NS1 antigen, IgG, and IgM antibodies are all negative, meaning no current or recent dengue infection is detected.\n",
            "\n",
            "* **Rapid Malaria Test:** This test for malaria parasites is negative, meaning no malaria infection was found.\n",
            "\n",
            "**Blood Tests:**\n",
            "\n",
            "* **Complete Blood Count (CBC):** This is a comprehensive blood test.  Most of Mr. Kishan Goud's results are within the normal range, indicating no major problems with his red blood cells (RBCs), white blood cells (WBCs), platelets, or hematocrit (PCV).\n",
            "\n",
            "* **Erythrocyte Sedimentation Rate (ESR):** This measures how quickly red blood cells settle at the bottom of a test tube.  An elevated ESR (26 mm/hr in the first hour, 52 mm/hr in the second) *could* indicate inflammation or infection somewhere in the body, but it's not specific.  It needs to be considered alongside other tests.\n",
            "\n",
            "* **HbA1c:** This test measures average blood sugar levels over the past 2-3 months.  Mr. Kishan Goud's result (5.4%) is within the normal range for someone without diabetes.\n",
            "\n",
            "* **Blood Chemistry Tests:** These tests look at different substances in the blood:\n",
            "    * **Serum Creatinine:** This measures kidney function.  The result is within the normal range.\n",
            "    * **Random Blood Glucose:** This measures blood sugar level at one point in time.  The result is within the normal range.\n",
            "    * **Liver Function Test (LFT):** These tests assess liver health.  All of Mr. Kishan Goud's liver function test results are within the normal range.\n",
            "    * **Serum Electrolytes:**  These tests measure the levels of sodium, potassium, and chloride in the blood. Sodium is slightly low, while potassium and chloride are within normal limits.  The doctor should assess this in context with the patient’s overall health.\n",
            "\n",
            "**In Summary:**\n",
            "\n",
            "The lab results show some potentially concerning findings (elevated ESR and slightly low sodium), but most values are within the normal range.  **It is crucial that Mr. Kishan Goud's doctor interprets these results in the context of his symptoms and medical history to determine a diagnosis and treatment plan.**  The lab results alone don't provide a complete picture of his health.\n",
            "\n"
          ]
        }
      ]
    },
    {
      "cell_type": "code",
      "source": [
        "def ask_gemini_about_report(text,question):\n",
        "  model=genai.GenerativeModel(\"gemini-1.5-flash\")\n",
        "  prompt=f\"The following is  ahealth report:\\n\\n{text}\\n\\nAnswer the following question based on the report:\\n{question}\"\n",
        "  response=model.generate_content(prompt)\n",
        "  return response .text\n",
        "\n",
        "question=\"what is the patient's diagnosis?\"\n",
        "answer=ask_gemini_about_report(extracted_text,question)\n",
        "print(\"Answer:\\n\",answer)"
      ],
      "metadata": {
        "colab": {
          "base_uri": "https://localhost:8080/",
          "height": 89
        },
        "id": "Ey_jTiR6TXMw",
        "outputId": "f7be4800-a261-40f9-a34a-486fccbf43c3"
      },
      "execution_count": 11,
      "outputs": [
        {
          "output_type": "stream",
          "name": "stdout",
          "text": [
            "Answer:\n",
            " The provided lab report does not offer a diagnosis.  It shows the results of various tests, including those for typhoid fever (Widal test), dengue fever, malaria, a complete blood count (CBC), blood glucose, liver function, electrolytes, and creatinine.  Some values are outside the normal range (e.g., elevated ESR), but this alone is not a diagnosis.  A physician must interpret these results in conjunction with the patient's symptoms and medical history to arrive at a diagnosis.\n",
            "\n"
          ]
        }
      ]
    },
    {
      "cell_type": "code",
      "source": [
        ""
      ],
      "metadata": {
        "id": "pYYFEAg-YIZF"
      },
      "execution_count": null,
      "outputs": []
    },
    {
      "cell_type": "code",
      "source": [],
      "metadata": {
        "id": "B60HsbiBYy5H"
      },
      "execution_count": null,
      "outputs": []
    }
  ]
}