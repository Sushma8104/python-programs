{
  "nbformat": 4,
  "nbformat_minor": 0,
  "metadata": {
    "colab": {
      "provenance": [],
      "authorship_tag": "ABX9TyP6hGZWdouR7MGt9msDdUsc",
      "include_colab_link": true
    },
    "kernelspec": {
      "name": "python3",
      "display_name": "Python 3"
    },
    "language_info": {
      "name": "python"
    }
  },
  "cells": [
    {
      "cell_type": "markdown",
      "metadata": {
        "id": "view-in-github",
        "colab_type": "text"
      },
      "source": [
        "<a href=\"https://colab.research.google.com/github/Sushma8104/python-programs/blob/main/4_3_25_(part_2).ipynb\" target=\"_parent\"><img src=\"https://colab.research.google.com/assets/colab-badge.svg\" alt=\"Open In Colab\"/></a>"
      ]
    },
    {
      "cell_type": "code",
      "execution_count": 2,
      "metadata": {
        "colab": {
          "base_uri": "https://localhost:8080/"
        },
        "id": "Byf4OuNQdRfJ",
        "outputId": "e9917b7c-ed6d-43cb-e521-2c69cbe8b6ab"
      },
      "outputs": [
        {
          "output_type": "stream",
          "name": "stderr",
          "text": [
            "[nltk_data] Downloading package punkt to /root/nltk_data...\n",
            "[nltk_data]   Unzipping tokenizers/punkt.zip.\n",
            "[nltk_data] Downloading package averaged_perceptron_tagger to\n",
            "[nltk_data]     /root/nltk_data...\n",
            "[nltk_data]   Unzipping taggers/averaged_perceptron_tagger.zip.\n"
          ]
        },
        {
          "output_type": "execute_result",
          "data": {
            "text/plain": [
              "True"
            ]
          },
          "metadata": {},
          "execution_count": 2
        }
      ],
      "source": [
        "import nltk\n",
        "import re\n",
        "from nltk.chat.util import Chat, reflections\n",
        "nltk.download('punkt')\n",
        "nltk.download('averaged_perceptron_tagger')"
      ]
    },
    {
      "cell_type": "code",
      "source": [
        "pairs = [\n",
        "    [r\"my name is (.*)\", [\"Hello %1, how can I assist you today?\",]],\n",
        "    [r\"hi|hey|hello\", [\"Hello, how can I help you?\", \"Hey there! What can I do for you?\", \"Hi! How can I assist you today?\"]],\n",
        "    [r\"what is your name?\", [\"I am a chatbot created to assist you. You can call me Chatbot.\",]],\n",
        "    [r\"how are you?\", [\"I'm a bot, so I don't have feelings, but I'm here to help you!\",]],\n",
        "    [r\"can you help me with (.*)\", [\"Sure, I can help you with %1. Please provide more details.\",]],\n",
        "    [r\"sorry (.*)\", [\"It's okay. How can I assist you?\",]],\n",
        "    [r\"thank you|thanks\", [\"You're welcome!\", \"No problem!\", \"Happy to help!\"]],\n",
        "    [r\"quit\", [\"Bye! Have a great day!\", \"Goodbye!\"]],\n",
        "    [r\"(.*)\", [\"I'm sorry, I don't understand that. Can you rephrase?\", \"Could you please elaborate on that?\"]]\n",
        "]"
      ],
      "metadata": {
        "id": "r8y9sD2odw1g"
      },
      "execution_count": 3,
      "outputs": []
    },
    {
      "cell_type": "code",
      "source": [
        "chatbot = Chat(pairs, reflections)\n",
        "chatbot.converse()\n"
      ],
      "metadata": {
        "colab": {
          "base_uri": "https://localhost:8080/"
        },
        "id": "vfT2tchLdxB_",
        "outputId": "8232a39a-f814-47dc-dd67-e902a72fcd2c"
      },
      "execution_count": 4,
      "outputs": [
        {
          "output_type": "stream",
          "name": "stdout",
          "text": [
            ">hii\n",
            "Hi! How can I assist you today?\n",
            ">what is your name\n",
            "I am a chatbot created to assist you. You can call me Chatbot.\n",
            ">how are you\n",
            "I'm a bot, so I don't have feelings, but I'm here to help you!\n",
            ">sorry\n",
            "Could you please elaborate on that?\n",
            ">rhanks\n",
            "I'm sorry, I don't understand that. Can you rephrase?\n",
            ">can you help[ ,me\n",
            "I'm sorry, I don't understand that. Can you rephrase?\n",
            ">how old are you\n",
            "Could you please elaborate on that?\n",
            ">you dont know any thing\n",
            "Could you please elaborate on that?\n",
            ">which food you like\n",
            "Could you please elaborate on that?\n",
            ">nothingg\n",
            "Could you please elaborate on that?\n",
            ">quit\n",
            "Bye! Have a great day!\n"
          ]
        }
      ]
    }
  ]
}